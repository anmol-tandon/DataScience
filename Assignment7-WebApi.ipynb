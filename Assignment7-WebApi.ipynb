{
 "cells": [
  {
   "cell_type": "markdown",
   "id": "c2301861-eaf4-43f4-972b-b1025106b5da",
   "metadata": {},
   "source": [
    "Q1. What is an API? Give an example, where an API is used in real life."
   ]
  },
  {
   "cell_type": "markdown",
   "id": "9ace124b-2f5e-418f-90d9-cb530249c46a",
   "metadata": {},
   "source": [
    "A1. API- Application Pragramming Interface is used to build connection between 2 or more similar or different platforms, frameworks and apps etc. It defines the methods and data formats that developers can use to interact with a particular software component, service, or platform.\n",
    "\n",
    "For example Google uses Google Search API to deliver search results. When you enter a search query in the Google search bar, Google's API processes that query, searches its vast index of web pages, and returns relevant search results. These results are then displayed on the search engine's webpage.\n"
   ]
  },
  {
   "cell_type": "code",
   "execution_count": null,
   "id": "a0907679-1bb5-4e34-8fd6-6e61c1aaf259",
   "metadata": {},
   "outputs": [],
   "source": []
  },
  {
   "cell_type": "markdown",
   "id": "8fff962e-0805-43cb-9943-2f2befce84df",
   "metadata": {},
   "source": [
    "Q2. Give advantages and disadvantages of using API."
   ]
  },
  {
   "cell_type": "markdown",
   "id": "0f45fe03-2db0-4214-a532-c73facd8d17d",
   "metadata": {},
   "source": [
    "A3. Advantages of using APIs:\n",
    "\n",
    "1. **Security**: They can provide controlled and secure access to resources.\n",
    "\n",
    "2. **Efficiency**: They save time and effort by providing pre-built functionalities and services.\n",
    "\n",
    "3. **Innovation**: Developers can build on existing APIs to create new features and applications.\n",
    "\n",
    "4. **Access to Data**: APIs allow access to data and services that may not be available otherwise.\n",
    "\n",
    "Disadvantages of using APIs:\n",
    "\n",
    "1. **Dependency**: Relying on external APIs can make your application vulnerable to changes or disruptions in the API provider's service.\n",
    "\n",
    "2. **Lack of Control**: You may have limited control over the functionality and performance of the API.\n",
    "\n",
    "3. **Data Privacy**: Sharing data through APIs may raise privacy and security concerns.\n",
    "\n",
    "4. **Cost**: Some APIs come with usage fees, which can add to the operational costs of a service.\n"
   ]
  },
  {
   "cell_type": "code",
   "execution_count": null,
   "id": "3572bb90-026e-425b-9327-b1a473f9bd8b",
   "metadata": {},
   "outputs": [],
   "source": []
  },
  {
   "cell_type": "markdown",
   "id": "35724a61-1ab0-40f9-bf18-3990746ae68f",
   "metadata": {},
   "source": [
    "Q3. What is a Web API? Differentiate between API and Web API."
   ]
  },
  {
   "cell_type": "markdown",
   "id": "a4943aa4-d071-4b30-b051-47e7f1100f7e",
   "metadata": {},
   "source": [
    "A3. A Web API is a type of API specifically designed for use via HTTP (Hypertext Transfer Protocol).Web APIs are commonly used to enable communication and data exchange between web servers and client applications such as web and mobile apps.\n",
    "\n",
    "Differentiation:\n",
    "\n",
    "API (General): \n",
    "1. APIs can include functions, classes, or methods that are exposed for use by other parts of a program.\n",
    "2. Can be used locally or over a network.\n",
    "3. Communication can use various protocols like tcp, hmtp and http protocol.\n",
    "\n",
    "Web API:\n",
    "1. Web APIs often consist of URLs (endpoints) that are accessed via HTTP requests like GET, POST, PUT, and DELETE, with data exchanged in JSON, XML, or other formats.\n",
    "2. Used for remote communication over the web.\n",
    "3. Communication exclusively uses HTTP."
   ]
  },
  {
   "cell_type": "code",
   "execution_count": null,
   "id": "27cedbc2-9d87-48e9-9e16-5f71c44064e0",
   "metadata": {},
   "outputs": [],
   "source": []
  },
  {
   "cell_type": "markdown",
   "id": "a8cd42eb-eb61-4597-a154-be09d81255f7",
   "metadata": {},
   "source": [
    "Q4. Explain REST and SOAP Architecture. Mention shortcomings of SOAP."
   ]
  },
  {
   "cell_type": "markdown",
   "id": "0ea97870-1e06-4357-b957-66066acd7b82",
   "metadata": {},
   "source": [
    "A4.\n",
    "\n",
    "REST (Representational State Transfer):\n",
    "\n",
    "REST is an architectural style for designing networked applications. It is based on a few key principles, including statelessness, the use of standard HTTP methods (GET, POST, PUT, DELETE), and resources that are uniquely identified by URLs. RESTful services are typically lightweight, easy to understand, and widely used for building web services. They focus on simplicity, scalability, and flexibility.\n",
    "\n",
    "SOAP (Simple Object Access Protocol):\n",
    "\n",
    "SOAP is a protocol for exchanging structured information in the implementation of web services. It uses XML for message formatting and relies on other application layer protocols like HTTP, SMTP, and more. SOAP is known for its strict standards and a rigid structure, which can provide strong security and reliability features.\n",
    "\n",
    "Shortcomings of SOAP:\n",
    "\n",
    "SOAP provides robust security and reliability features, it is often considered heavyweight and complex compared to REST, which is more lightweight, flexible, and suitable for many web services and applications.\n",
    "SOAP messages are often more complex and larger due to their XML-based structure, which can lead to slower performance and increased overhead. Also they have limited browser support and  are not as human-readable as REST.\n",
    "\n"
   ]
  },
  {
   "cell_type": "code",
   "execution_count": null,
   "id": "f1d40ac2-7757-4fad-8d38-8d2ea25ea3a7",
   "metadata": {},
   "outputs": [],
   "source": []
  },
  {
   "cell_type": "markdown",
   "id": "c4349d6f-5053-4284-a75c-1c23aa9cbca9",
   "metadata": {},
   "source": [
    "Q5. Differentiate between REST and SOAP."
   ]
  },
  {
   "cell_type": "markdown",
   "id": "3ac0c2db-da65-4ad4-b055-469770f32b94",
   "metadata": {},
   "source": [
    "A5. \n",
    "\n",
    "1. Protocol vs. Architectural Style:\n",
    "\n",
    "REST is an architectural style or design approach for networked applications, whereas SOAP is a protocol for structuring messages in web services.\n",
    "\n",
    "2. Communication Style:\n",
    "\n",
    "REST uses standard HTTP methods (GET, POST, PUT, DELETE) and focuses on statelessness and simplicity.\n",
    "SOAP can use various protocols, including HTTP, and it has a more rigid and complex message structure.\n",
    "\n",
    "3. Message Format:\n",
    "\n",
    "REST typically uses lightweight formats like JSON or XML for data exchange.\n",
    "SOAP messages are usually XML-based, making them larger and more complex.\n",
    "\n",
    "4. Overhead:\n",
    "\n",
    "REST is considered lightweight and more efficient in terms of bandwidth and processing power.\n",
    "SOAP can have higher overhead due to its XML format.\n",
    "\n",
    "5. Browser-Friendly:\n",
    "\n",
    "REST is more browser-friendly, making it suitable for web applications.\n",
    "SOAP is less browser-friendly and often used for more complex enterprise-level services.\n",
    "\n",
    "6. Flexibility:\n",
    "\n",
    "REST is flexible and adaptable, making it suitable for a wide range of applications and services.\n",
    "SOAP can be rigid due to its strict standards and conventions."
   ]
  },
  {
   "cell_type": "code",
   "execution_count": null,
   "id": "953714ba-01d1-431f-b219-0de6d4cd85db",
   "metadata": {},
   "outputs": [],
   "source": []
  }
 ],
 "metadata": {
  "kernelspec": {
   "display_name": "Python 3 (ipykernel)",
   "language": "python",
   "name": "python3"
  },
  "language_info": {
   "codemirror_mode": {
    "name": "ipython",
    "version": 3
   },
   "file_extension": ".py",
   "mimetype": "text/x-python",
   "name": "python",
   "nbconvert_exporter": "python",
   "pygments_lexer": "ipython3",
   "version": "3.10.8"
  }
 },
 "nbformat": 4,
 "nbformat_minor": 5
}
