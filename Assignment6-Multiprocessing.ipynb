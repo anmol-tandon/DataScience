{
 "cells": [
  {
   "cell_type": "markdown",
   "id": "00bc6a6f-b01f-47e0-abe6-13a3bf869717",
   "metadata": {},
   "source": [
    "Q1. What is multiprocessing in python? Why is it useful?"
   ]
  },
  {
   "cell_type": "markdown",
   "id": "5187df87-b230-4288-bd77-8f8dc2178ed1",
   "metadata": {},
   "source": [
    "Ans 1.\n",
    "\n",
    "Multiprocessing is a process of running multiple processes simulatenously. It is useful in increasing the performance of the program that is by enabling the breaking of applications into smaller threads that can run independently."
   ]
  },
  {
   "cell_type": "code",
   "execution_count": null,
   "id": "23c339c7-0001-438d-94ba-97a193962972",
   "metadata": {},
   "outputs": [],
   "source": []
  },
  {
   "cell_type": "markdown",
   "id": "489121e9-bc96-47a6-928f-28427846e55a",
   "metadata": {},
   "source": [
    "\n",
    "Q2. What are the differences between multiprocessing and multithreading? "
   ]
  },
  {
   "cell_type": "markdown",
   "id": "861de235-3d38-43db-8a2e-d4e921914b29",
   "metadata": {},
   "source": [
    "Ans 2.\n",
    "\n",
    "Multiprocessing refers to the ability of a system to run multiple processors in parallel, where each processor can run one or more threads whereas Multithreading refers to the ability of a processor to execute multiple threads concurrently, where each thread runs a process\n"
   ]
  },
  {
   "cell_type": "code",
   "execution_count": null,
   "id": "ee1025e0-879f-4e7b-81b2-a67d847b227a",
   "metadata": {},
   "outputs": [],
   "source": []
  },
  {
   "cell_type": "markdown",
   "id": "6e9d7979-39e3-42a4-aa45-26e41f0c03cb",
   "metadata": {},
   "source": [
    "\n",
    "Q3. Write a python code to create a process using the multiprocessing module. "
   ]
  },
  {
   "cell_type": "code",
   "execution_count": 15,
   "id": "fa98eace-09aa-4380-8504-97cc2193c9b3",
   "metadata": {},
   "outputs": [
    {
     "name": "stdout",
     "output_type": "stream",
     "text": [
      "The Square is: 25\n"
     ]
    }
   ],
   "source": [
    "#Ans 3.\n",
    "\n",
    "import multiprocessing\n",
    "def square(n):    \n",
    "    print(\"The Square is: {}\".format(n * n))  \n",
    "  \n",
    "if __name__ == \"__main__\":  \n",
    "    process1 = multiprocessing.Process(target= square, args=(5,))\n",
    "    process1.start()\n",
    "    process1.join()"
   ]
  },
  {
   "cell_type": "code",
   "execution_count": null,
   "id": "cf243178-d5f8-4ae0-b050-35e39d360676",
   "metadata": {},
   "outputs": [],
   "source": []
  },
  {
   "cell_type": "markdown",
   "id": "6c3be42f-4e22-49ee-85f7-79f4eab21aa8",
   "metadata": {},
   "source": [
    "\n",
    "Q4. What is a multiprocessing pool in python? Why is it used? "
   ]
  },
  {
   "cell_type": "markdown",
   "id": "e295b0b7-850c-436f-b214-5eebba08d27e",
   "metadata": {},
   "source": [
    "Ans 4. \n",
    "\n",
    "Multiprocessing.Pool class is used to create a pool of worker processes which can execute functiona or methods in parallel, which is used for tasks that can be divided into smaller or independent parts and processed concurrently.\n",
    "\n",
    "It is useful for parallel execution, for simplifying code, for efficient resource management etc."
   ]
  },
  {
   "cell_type": "code",
   "execution_count": null,
   "id": "7302cdad-f8ef-4e0d-a69c-455dfafbb3e3",
   "metadata": {},
   "outputs": [],
   "source": []
  },
  {
   "cell_type": "markdown",
   "id": "9818e937-b1bf-4620-9b3a-685d380f3e68",
   "metadata": {},
   "source": [
    "\n",
    "Q5. How can we create a pool of worker processes in python using the multiprocessing module?"
   ]
  },
  {
   "cell_type": "code",
   "execution_count": 4,
   "id": "0699d308-d7b8-4477-9f4e-4d85655ee4d2",
   "metadata": {
    "tags": []
   },
   "outputs": [
    {
     "name": "stdout",
     "output_type": "stream",
     "text": [
      "[1, 8, 27, 64, 125, 216, 343, 512, 729]\n"
     ]
    }
   ],
   "source": [
    "# Ans 5\n",
    "\n",
    "import multiprocessing\n",
    "def cube(n):\n",
    "    return n*n*n\n",
    "\n",
    "if __name__==\"__main__\":\n",
    "    with multiprocessing.Pool(processes=4) as pool:\n",
    "        var=pool.map(cube, [1,2,3,4,5,6,7,8,9])\n",
    "        print(var)"
   ]
  },
  {
   "cell_type": "code",
   "execution_count": null,
   "id": "1bc6bf88-4a21-46a3-a5ec-99a52cfafe96",
   "metadata": {},
   "outputs": [],
   "source": []
  },
  {
   "cell_type": "markdown",
   "id": "9c250b7d-2731-4f87-8018-2b1f69f43f0a",
   "metadata": {},
   "source": [
    " Q6. Write a python program to create 4 processes, each process should print a different number using the multiprocessing module in python."
   ]
  },
  {
   "cell_type": "code",
   "execution_count": 16,
   "id": "eaf2bd74-3ecf-42c1-80b3-3bd390624f9c",
   "metadata": {
    "tags": []
   },
   "outputs": [
    {
     "name": "stdout",
     "output_type": "stream",
     "text": [
      "Process 3 - 3\n",
      "Process 1 - 1\n",
      "Process 2 - 2\n",
      "Process 4 - 4\n",
      "\n",
      "\n",
      "\n",
      "\n"
     ]
    }
   ],
   "source": [
    "# Ans 6\n",
    "\n",
    "import multiprocessing\n",
    "def fun(n):\n",
    "    print(\"Process {} - {}\\n\".format(n,n))\n",
    "\n",
    "if __name__==\"__main__\":\n",
    "    with multiprocessing.Pool(processes=4) as pool:\n",
    "        pool.map(fun, [1,2,3,4])\n",
    "        "
   ]
  },
  {
   "cell_type": "code",
   "execution_count": null,
   "id": "658b9ba1-c566-4e78-8c20-be753d040f69",
   "metadata": {},
   "outputs": [],
   "source": []
  }
 ],
 "metadata": {
  "kernelspec": {
   "display_name": "Python 3 (ipykernel)",
   "language": "python",
   "name": "python3"
  },
  "language_info": {
   "codemirror_mode": {
    "name": "ipython",
    "version": 3
   },
   "file_extension": ".py",
   "mimetype": "text/x-python",
   "name": "python",
   "nbconvert_exporter": "python",
   "pygments_lexer": "ipython3",
   "version": "3.10.8"
  }
 },
 "nbformat": 4,
 "nbformat_minor": 5
}
