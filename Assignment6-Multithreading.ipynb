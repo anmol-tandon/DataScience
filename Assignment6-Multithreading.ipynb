{
 "cells": [
  {
   "cell_type": "markdown",
   "id": "4c499de3-ba98-43f9-925f-c0c15c4ba510",
   "metadata": {},
   "source": [
    "Q1. What is multithreading in python? Why is it used? Name the module used to handle threads in python.\n"
   ]
  },
  {
   "cell_type": "markdown",
   "id": "aedd6e9c-633e-4ddd-8e8d-d09656a737cd",
   "metadata": {},
   "source": [
    "## Ans 1.\n",
    "\n",
    "Multithreading is defined as the ability of a processor to execute multiple threads concurrently. In a single-core CPU, it is achieved using frequent switching between threads. \n",
    " \n",
    "It is used to achieve multitasking by context switching which takes place so frequently that all the threads appear to be running parallelly.\n",
    "\n",
    "Threading module is used to handle threads in python."
   ]
  },
  {
   "cell_type": "code",
   "execution_count": null,
   "id": "d475b9aa-5f0b-4bb1-bea6-d2c823b54ade",
   "metadata": {},
   "outputs": [],
   "source": []
  },
  {
   "cell_type": "markdown",
   "id": "b5c5322c-91ec-4abc-beb0-059393559489",
   "metadata": {},
   "source": [
    "\n",
    "Q2. Why threading module used? Write the use of the following functions: \n",
    "1. activeCount() \n",
    "2. currentThread() \n",
    "3. enumerate()\n"
   ]
  },
  {
   "cell_type": "markdown",
   "id": "99e197fc-a6b8-458c-9dc0-fcdf806d954e",
   "metadata": {},
   "source": [
    "## Ans 2. \n",
    "\n",
    "Threading module is used for creating and managing threads to achieve concurrent execution in program.\n",
    "\n",
    "a) activeCount() is used to get number of thread objects currently alive in the program by returning integer value.\n",
    "\n",
    "b) currentThread() is used to return  reference to the currently thread object which is used to access properties of current thread.\n",
    "\n",
    "c) enumerate() returns list of all thread objects alive in program which can be used to iterate through threads."
   ]
  },
  {
   "cell_type": "code",
   "execution_count": null,
   "id": "f24f0002-6ebb-4b3f-8952-8eea44655d9b",
   "metadata": {},
   "outputs": [],
   "source": []
  },
  {
   "cell_type": "markdown",
   "id": "8651cc3a-0985-4fb8-912a-fc3a5b758594",
   "metadata": {},
   "source": [
    "\n",
    "Q3. Explain the following functions:\n",
    "1. run() \n",
    "2. start() \n",
    "3. join() \n",
    "4. isAlive() \n"
   ]
  },
  {
   "cell_type": "markdown",
   "id": "ea3b9881-e30f-4418-b4b1-78bdb720fa44",
   "metadata": {},
   "source": [
    "## Ans 3.\n",
    "\n",
    "a) run() method is the entry point fo the thread when its started, we can define the behaviour of thread inside this method\n",
    "\n",
    "b) start() method is used to initiate the execution of a thread, when we call start(), it invoked the run() method.\n",
    "\n",
    "c) join() method is uded to block the calling thread until the thread on which it is called complete its execution\n",
    "\n",
    "d) isAlive() is used to check if a thread is currently running or active by returng True or False as output."
   ]
  },
  {
   "cell_type": "code",
   "execution_count": null,
   "id": "d016099b-f0c7-4767-ad4b-fd4a89a5ffde",
   "metadata": {},
   "outputs": [],
   "source": []
  },
  {
   "cell_type": "markdown",
   "id": "c3d8458c-189b-47cd-b192-b82cb87f918c",
   "metadata": {},
   "source": [
    "\n",
    "Q4. Write a python program to create two threads. Thread one must print the list of squares and thread two must print the list of cubes.\n"
   ]
  },
  {
   "cell_type": "code",
   "execution_count": 19,
   "id": "0f30617d-7b02-4922-b189-ab541c268b70",
   "metadata": {},
   "outputs": [
    {
     "name": "stdout",
     "output_type": "stream",
     "text": [
      "[1, 4, 9, 16, 25]\n",
      "[1, 8, 27, 64, 125]\n"
     ]
    }
   ],
   "source": [
    "#Ans 4\n",
    "\n",
    "import threading\n",
    "\n",
    "def sq():\n",
    "    v=[i*i for i in range(1,6)]\n",
    "    print(v)\n",
    "    \n",
    "def cube():\n",
    "    v=[i*i*i for i in range(1,6)]\n",
    "    print(v)\n",
    "    \n",
    "t1=threading.Thread(target=sq) \n",
    "t2=threading.Thread(target=cube)\n",
    "t1.start()\n",
    "t2.start()\n",
    "t1.join()\n",
    "t2.join()"
   ]
  },
  {
   "cell_type": "code",
   "execution_count": null,
   "id": "c5ab9086-1a45-4e8b-848d-3405627f0c90",
   "metadata": {},
   "outputs": [],
   "source": []
  },
  {
   "cell_type": "markdown",
   "id": "f57edd3f-36b8-402f-9859-25b9ff61e19c",
   "metadata": {},
   "source": [
    "Q5. State advantages and disadvantages of multithreading. "
   ]
  },
  {
   "cell_type": "markdown",
   "id": "7e8027db-5cdf-4ad2-8f18-d3019935de00",
   "metadata": {},
   "source": [
    "# Ans 5\n",
    "\n",
    "## Advantages:\n",
    "\n",
    "Improved performance:  Multithreading can help increase the overall performance of an application, especially on systems with multiple processors or cores\n",
    "\n",
    "Better resource utilization: Multithreading allows better utilization of system resources by keeping the CPU busy while waiting for I/O operations or other tasks to complete.\n",
    "\n",
    "Parallelism:  Multithreading enables parallelism, which can lead to significant performance improvements in applications that can be divided into smaller, independent tasks.\n",
    "\n",
    "## Disadvantages:\n",
    "\n",
    "Complexity: Multithreading adds complexity to the program, making it more difficult to design, implement, and debug. Developers need to be aware of synchronization, deadlocks, race conditions, and other concurrency-related issues.\n",
    "\n",
    "Context switching: Context switching between threads consumes CPU time and resources, which can lead to performance degradation if not managed efficiently.\n",
    "\n",
    "Hard to predict behavior: Due to the concurrent nature of multithreading, the behavior of the program can be hard to predict and reproduce, especially when it comes to debugging.\n"
   ]
  },
  {
   "cell_type": "code",
   "execution_count": null,
   "id": "23c5231d-b71f-4ffd-9493-7433959245b1",
   "metadata": {},
   "outputs": [],
   "source": []
  },
  {
   "cell_type": "markdown",
   "id": "7d3d4d4d-dae7-4c49-9a4c-e7fbec8b5644",
   "metadata": {},
   "source": [
    "Q6. Explain deadlocks and race conditions."
   ]
  },
  {
   "cell_type": "markdown",
   "id": "f89b6b33-c7ab-47e7-87cd-7a47fac8e3d1",
   "metadata": {},
   "source": [
    "## Ans 6\n",
    "\n",
    "Race condition - When two processes are competing with each other causing data corruption.\n",
    "\n",
    "For example, if two processes/threads are trying to execute the following conditions simultaneously, they cause data corruption:\n",
    "\n",
    "Thread 1:\n",
    "total = num1 + num2\n",
    "\n",
    "Thread 2:\n",
    "total = num1 - num2\n",
    "\n",
    "Deadlock - When two processes are waiting for each other directly or indirectly, it is called deadlock.\n",
    "This usually occurs when two processes are waiting for shared resources acquired by others.\n",
    "\n",
    "For example, If thread T1 acquired resource R1 and it also needs resource R2 for it to accomplish its task. But the resource R2 is acquired by thread T2 which is waiting for resource R1(which is acquired by T1) Neither of them will be able to accomplish its task, as they keep waiting for the other resources they need."
   ]
  },
  {
   "cell_type": "code",
   "execution_count": null,
   "id": "05c318c7-857f-4040-be19-aa41afa3e9f2",
   "metadata": {},
   "outputs": [],
   "source": []
  }
 ],
 "metadata": {
  "kernelspec": {
   "display_name": "Python 3 (ipykernel)",
   "language": "python",
   "name": "python3"
  },
  "language_info": {
   "codemirror_mode": {
    "name": "ipython",
    "version": 3
   },
   "file_extension": ".py",
   "mimetype": "text/x-python",
   "name": "python",
   "nbconvert_exporter": "python",
   "pygments_lexer": "ipython3",
   "version": "3.10.8"
  }
 },
 "nbformat": 4,
 "nbformat_minor": 5
}
