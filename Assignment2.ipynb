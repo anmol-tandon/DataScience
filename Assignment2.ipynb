{
 "cells": [
  {
   "cell_type": "markdown",
   "id": "956a98fb-75bf-4c48-8c1e-eea152d0ee5b",
   "metadata": {},
   "source": [
    "Q1. How do you comment code in Python? What are the different types of comments?\n",
    "* A1 We can use # to write single line comment and ''' for multi line comments. Example is shown below\n"
   ]
  },
  {
   "cell_type": "code",
   "execution_count": null,
   "id": "0fbc25fd-434d-42bd-9b4a-f83a72c19bb9",
   "metadata": {},
   "outputs": [],
   "source": [
    "#Single line comment\n",
    "'''Multi\n",
    "line comment'''"
   ]
  },
  {
   "cell_type": "code",
   "execution_count": null,
   "id": "1f0c250a-621a-4130-95bc-3526aeb019da",
   "metadata": {},
   "outputs": [],
   "source": []
  },
  {
   "cell_type": "markdown",
   "id": "696c2343-d52e-4418-9176-3b64634709ef",
   "metadata": {},
   "source": [
    "Q2 What are variables in Python? How do you declare and assign values to variables?\n",
    "* A3 - Variables in python is symbolic names which point to object and in that object value is stored. Example of assigning values to variable is shown below"
   ]
  },
  {
   "cell_type": "code",
   "execution_count": 2,
   "id": "b8d47a91-8ce5-4704-bdd3-c34efcd170b3",
   "metadata": {},
   "outputs": [],
   "source": [
    "var=2\n",
    "var2=\"ABC\""
   ]
  },
  {
   "cell_type": "code",
   "execution_count": null,
   "id": "7924f836-baee-4d13-8d08-a2f26bf5db37",
   "metadata": {},
   "outputs": [],
   "source": []
  },
  {
   "cell_type": "markdown",
   "id": "21397018-c349-46ca-ad51-60c054985ff1",
   "metadata": {},
   "source": [
    "Q3 How do you convert one data type to another in Python?\n",
    "* A3 typecasting is used to convert 1 data type to another. Example is shown below\n"
   ]
  },
  {
   "cell_type": "code",
   "execution_count": 7,
   "id": "40d10ba3-b916-4329-93f2-9e9e8f8653de",
   "metadata": {},
   "outputs": [],
   "source": [
    "var=2\n",
    "var2=str(2)"
   ]
  },
  {
   "cell_type": "code",
   "execution_count": null,
   "id": "46b667ca-36b3-4bd0-9fb2-914540a15bd5",
   "metadata": {},
   "outputs": [],
   "source": []
  },
  {
   "cell_type": "markdown",
   "id": "901cad2a-c97d-4fa3-b67c-b6c829bc0acd",
   "metadata": {},
   "source": [
    "Q4. How do you write and execute a Python script from the command line?\n",
    "* A4 open cmd and type python and press enter, then you can write and run your script there by pressing\n",
    "enter after every python line "
   ]
  },
  {
   "cell_type": "code",
   "execution_count": null,
   "id": "26a50fa7-7be1-41fe-98ac-2d40f90dc0c4",
   "metadata": {},
   "outputs": [],
   "source": []
  },
  {
   "cell_type": "markdown",
   "id": "b35bcdd2-9e6f-40ab-97df-6f7df5f5fe28",
   "metadata": {},
   "source": [
    "Q5. Given a list my_list = [1, 2, 3, 4, 5], write the code to slice the list and obtain the sub-list [2, 3].\n"
   ]
  },
  {
   "cell_type": "code",
   "execution_count": 8,
   "id": "97d3e2f2-44e7-453b-9321-8d519753e492",
   "metadata": {},
   "outputs": [
    {
     "name": "stdout",
     "output_type": "stream",
     "text": [
      "[2, 3]\n"
     ]
    }
   ],
   "source": [
    " #A5\n",
    "my_list=[1,2,3,4,5] \n",
    "sub_list=my_list[1:3]\n",
    "print(sub_list)"
   ]
  },
  {
   "cell_type": "code",
   "execution_count": null,
   "id": "737d6e8a-645a-47d4-958b-c04f21331dd1",
   "metadata": {},
   "outputs": [],
   "source": []
  },
  {
   "cell_type": "markdown",
   "id": "fab8106a-98ef-4bff-bae2-2b914f8009cf",
   "metadata": {},
   "source": [
    "Q6. What is a complex number in mathematics, and how is it represented in Python?\n",
    "\n",
    "* A6 A complex number is made of real numbers and imaginary numbers where imaginary no is represented by i in maths and by j in python and it satisfy the equation a+bj. Example is shown below for python\n",
    " \n",
    "\n"
   ]
  },
  {
   "cell_type": "code",
   "execution_count": 10,
   "id": "a3b1dc54-dd5a-407b-9e0f-3dee4a9205b6",
   "metadata": {},
   "outputs": [
    {
     "data": {
      "text/plain": [
       "complex"
      ]
     },
     "execution_count": 10,
     "metadata": {},
     "output_type": "execute_result"
    }
   ],
   "source": [
    "var=2+7j\n",
    "type(var)"
   ]
  },
  {
   "cell_type": "code",
   "execution_count": null,
   "id": "629c838d-ea03-4a0f-8239-9c9b8ce8ebd2",
   "metadata": {},
   "outputs": [],
   "source": []
  },
  {
   "cell_type": "markdown",
   "id": "04f83107-a14c-4506-84aa-93127141a17c",
   "metadata": {},
   "source": [
    "Q7. What is the correct way to declare a variable named age and assign the value 25 to it?"
   ]
  },
  {
   "cell_type": "code",
   "execution_count": 11,
   "id": "1e848912-3ae2-4c79-8d39-20bcaa7e61cf",
   "metadata": {},
   "outputs": [],
   "source": [
    "#A7\n",
    "age=25"
   ]
  },
  {
   "cell_type": "code",
   "execution_count": null,
   "id": "14200f87-f857-4010-ab57-655d20f03f7f",
   "metadata": {},
   "outputs": [],
   "source": []
  },
  {
   "cell_type": "markdown",
   "id": "ff131070-229d-49de-9e6c-e17bb629e1a8",
   "metadata": {},
   "source": [
    "Q8. Declare a variable named price and assign the value 9.99 to it. What data type does this variable\n",
    "belong to?"
   ]
  },
  {
   "cell_type": "code",
   "execution_count": 13,
   "id": "ea95cbb5-9fa4-46a1-bcc1-d2c13bd6dc67",
   "metadata": {},
   "outputs": [
    {
     "data": {
      "text/plain": [
       "float"
      ]
     },
     "execution_count": 13,
     "metadata": {},
     "output_type": "execute_result"
    }
   ],
   "source": [
    "#A8\n",
    "price=9.99\n",
    "#it belongs to float data type\n",
    "type(price)"
   ]
  },
  {
   "cell_type": "code",
   "execution_count": null,
   "id": "528d9fb8-cbb7-4205-8551-b97d4cd0fd68",
   "metadata": {},
   "outputs": [],
   "source": []
  },
  {
   "cell_type": "markdown",
   "id": "ee7af33f-2f60-44bd-aa23-2e278f871dd8",
   "metadata": {},
   "source": [
    "Q9. Create a variable named name and assign your full name to it as a string. How would you print the\n",
    "value of this variable?"
   ]
  },
  {
   "cell_type": "code",
   "execution_count": 14,
   "id": "4663b08e-eb09-43ae-80eb-f7e8d9b81f11",
   "metadata": {},
   "outputs": [
    {
     "name": "stdout",
     "output_type": "stream",
     "text": [
      "Anmol Tandon\n"
     ]
    }
   ],
   "source": [
    "#A9\n",
    "name=\"Anmol Tandon\"\n",
    "print(name)"
   ]
  },
  {
   "cell_type": "code",
   "execution_count": null,
   "id": "94358f7c-3715-4c43-8848-212ee2bdf5a0",
   "metadata": {},
   "outputs": [],
   "source": []
  },
  {
   "cell_type": "markdown",
   "id": "015c43da-eb92-4202-804f-c0e16ca21b41",
   "metadata": {},
   "source": [
    "Q10. Given the string \"Hello, World!\", extract the substring \"World\"."
   ]
  },
  {
   "cell_type": "code",
   "execution_count": 15,
   "id": "039fa730-bc5b-423f-b075-08f30e538be6",
   "metadata": {},
   "outputs": [
    {
     "data": {
      "text/plain": [
       "'World!'"
      ]
     },
     "execution_count": 15,
     "metadata": {},
     "output_type": "execute_result"
    }
   ],
   "source": [
    "#A10\n",
    "str=\"Hello, World!\"\n",
    "str[-6:]"
   ]
  },
  {
   "cell_type": "code",
   "execution_count": null,
   "id": "fb34cb09-7774-47bd-9dab-9c757e9bfc62",
   "metadata": {},
   "outputs": [],
   "source": []
  },
  {
   "cell_type": "markdown",
   "id": "dae66feb-d4b6-45e8-ab89-a210c5a0b7f4",
   "metadata": {},
   "source": [
    "Q11. Create a variable named \"is_student\" and assign it a boolean value indicating whether you are\n",
    "currently a student or not."
   ]
  },
  {
   "cell_type": "code",
   "execution_count": 18,
   "id": "59a5103e-6efd-4c6a-bfb9-705b13ddba98",
   "metadata": {},
   "outputs": [
    {
     "data": {
      "text/plain": [
       "bool"
      ]
     },
     "execution_count": 18,
     "metadata": {},
     "output_type": "execute_result"
    }
   ],
   "source": [
    "#A11- Since, I am a working professional and not a student so assigning False value to variable below\n",
    "is_student=False\n",
    "type(is_student)"
   ]
  },
  {
   "cell_type": "code",
   "execution_count": null,
   "id": "75df9044-902c-4f97-9e4a-c37933e5463e",
   "metadata": {},
   "outputs": [],
   "source": []
  }
 ],
 "metadata": {
  "kernelspec": {
   "display_name": "Python 3 (ipykernel)",
   "language": "python",
   "name": "python3"
  },
  "language_info": {
   "codemirror_mode": {
    "name": "ipython",
    "version": 3
   },
   "file_extension": ".py",
   "mimetype": "text/x-python",
   "name": "python",
   "nbconvert_exporter": "python",
   "pygments_lexer": "ipython3",
   "version": "3.10.8"
  }
 },
 "nbformat": 4,
 "nbformat_minor": 5
}
