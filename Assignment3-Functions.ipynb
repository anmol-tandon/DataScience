{
 "cells": [
  {
   "cell_type": "markdown",
   "id": "dd18e536-a4f6-466d-b9ad-88d532a3c3d4",
   "metadata": {},
   "source": [
    "Q1. Which keyword is used to create a function? Create a function to return a list of odd numbers in the range of 1 to 25."
   ]
  },
  {
   "cell_type": "code",
   "execution_count": 13,
   "id": "9e88fe60-84a3-4011-b65f-c20ab4e83618",
   "metadata": {},
   "outputs": [
    {
     "data": {
      "text/plain": [
       "[1, 3, 5, 7, 9, 11, 13, 15, 17, 19, 21, 23]"
      ]
     },
     "execution_count": 13,
     "metadata": {},
     "output_type": "execute_result"
    }
   ],
   "source": [
    "'''A1 \n",
    "def keyword is used to create a function'''\n",
    "\n",
    "lst=[]\n",
    "def odd():\n",
    "    for i in range(1,25):\n",
    "        if i%2==1:\n",
    "            lst.append(i)\n",
    "    return lst\n",
    "odd()"
   ]
  },
  {
   "cell_type": "code",
   "execution_count": null,
   "id": "36cc0998-b5dc-44ab-9d19-a78995a645bc",
   "metadata": {},
   "outputs": [],
   "source": []
  },
  {
   "cell_type": "markdown",
   "id": "8530394f-1223-4a54-ac55-152fcccdf4fb",
   "metadata": {},
   "source": [
    "Q2. Why *args and **kwargs is used in some functions? Create a function each for *args and\n",
    "**kwargs to demonstrate their use."
   ]
  },
  {
   "cell_type": "code",
   "execution_count": null,
   "id": "81ec6ceb-706a-424a-a628-d39be3a0d70e",
   "metadata": {},
   "outputs": [],
   "source": [
    "''' A2\n",
    "\n",
    "While passing argument in function we can use *args and **kwargs \n",
    "Purpose of using them is when count of data to be passed in function is not known.\n",
    "Means they help us to take n number of data as argument in function\n",
    "Example of each is shown below'''"
   ]
  },
  {
   "cell_type": "code",
   "execution_count": 7,
   "id": "79b41ca4-b571-4c82-beb3-591e00c3a357",
   "metadata": {},
   "outputs": [
    {
     "data": {
      "text/plain": [
       "(1, True, 3.4, 'abc')"
      ]
     },
     "execution_count": 7,
     "metadata": {},
     "output_type": "execute_result"
    }
   ],
   "source": [
    "def f1(*args):\n",
    "    return args\n",
    "f1(1, True, 3.4, \"abc\")"
   ]
  },
  {
   "cell_type": "markdown",
   "id": "2946cac5-cd62-4a9d-85f8-5b762ab380a6",
   "metadata": {},
   "source": [
    "We can use **kwargs when arguments is passed in form of key value pair as shown below"
   ]
  },
  {
   "cell_type": "code",
   "execution_count": 11,
   "id": "26462dac-8299-4728-92d9-39bbfc3ba2ea",
   "metadata": {},
   "outputs": [
    {
     "data": {
      "text/plain": [
       "{'a': 'Hello', 'b': 'Hi'}"
      ]
     },
     "execution_count": 11,
     "metadata": {},
     "output_type": "execute_result"
    }
   ],
   "source": [
    "def f2(**kwargs):\n",
    "    return kwargs\n",
    "f2(a=\"Hello\", b=\"Hi\")"
   ]
  },
  {
   "cell_type": "code",
   "execution_count": null,
   "id": "3f932a6d-5510-4c7c-af1a-d102a4f6568f",
   "metadata": {},
   "outputs": [],
   "source": []
  },
  {
   "cell_type": "markdown",
   "id": "f26ab5f7-ca7f-48a7-8acb-1038d8b6478d",
   "metadata": {},
   "source": [
    "Q3. What is an iterator in python? Name the method used to initialise the iterator object and the method\n",
    "\n",
    "used for iteration. Use these methods to print the first five elements of the given list [2, 4, 6, 8, 10, 12, 14, 16,\n",
    "\n",
    "18, 20]"
   ]
  },
  {
   "cell_type": "code",
   "execution_count": 18,
   "id": "e65c46c0-a447-4f09-804d-d402898e7e7d",
   "metadata": {},
   "outputs": [
    {
     "name": "stdout",
     "output_type": "stream",
     "text": [
      "2\n",
      "4\n",
      "6\n",
      "8\n",
      "10\n"
     ]
    }
   ],
   "source": [
    "'''\n",
    "A3\n",
    "Iterator is an object which allows us to iterate through collections of data like lists, tuples, \n",
    "dictionaries and sets.\n",
    "\n",
    "iter() method is used to initialise the iterator object.\n",
    "\n",
    "next() method for iteration'''\n",
    "\n",
    "\n",
    "lst=[2, 4, 6, 8, 10, 12, 14, 16, 18, 20]\n",
    "iteration = iter(lst)\n",
    "for i in range(5):\n",
    "    print(next(iteration))"
   ]
  },
  {
   "cell_type": "code",
   "execution_count": null,
   "id": "1abb4087-7d62-4d57-b557-f59972cfec28",
   "metadata": {},
   "outputs": [],
   "source": []
  },
  {
   "cell_type": "markdown",
   "id": "2ee2d3ca-e083-4df5-a425-d8d4052b007e",
   "metadata": {},
   "source": [
    "Q4. What is a generator function in python? Why yield keyword is used? Give an example of \n",
    "generator function."
   ]
  },
  {
   "cell_type": "code",
   "execution_count": 21,
   "id": "3d489d6c-3d00-4fd1-aaf1-3611ee761eb4",
   "metadata": {},
   "outputs": [
    {
     "name": "stdout",
     "output_type": "stream",
     "text": [
      "1\n",
      "2\n",
      "3\n",
      "5\n",
      "8\n"
     ]
    }
   ],
   "source": [
    "'''Generator is a function that returns an iterator using the yield keyword.\n",
    "In place of return keyword we use yield keyword to print output at every iteration.\n",
    "Example of fibonaci is shown below using generator func'''\n",
    "\n",
    "def fib(a,b):\n",
    "    for i in range(5):\n",
    "        c=a+b\n",
    "        yield c\n",
    "        a=b\n",
    "        b=c\n",
    "\n",
    "for i in fib(0,1):\n",
    "    print(i)"
   ]
  },
  {
   "cell_type": "code",
   "execution_count": null,
   "id": "0ccdfbfc-b5a7-4c88-bb25-7680af237edf",
   "metadata": {},
   "outputs": [],
   "source": []
  },
  {
   "cell_type": "markdown",
   "id": "b54d7f76-9db7-4e15-807a-056a51aa9e7c",
   "metadata": {},
   "source": [
    "Q5. Create a generator function for prime numbers less than 1000. Use the next() method to print the first 20 prime numbers."
   ]
  },
  {
   "cell_type": "code",
   "execution_count": 20,
   "id": "25697fa6-2aae-4c2a-9903-0d783bcaba76",
   "metadata": {},
   "outputs": [
    {
     "name": "stdout",
     "output_type": "stream",
     "text": [
      "2\n",
      "3\n",
      "5\n",
      "7\n",
      "11\n",
      "13\n",
      "17\n",
      "19\n",
      "23\n",
      "29\n",
      "31\n",
      "37\n",
      "41\n",
      "43\n",
      "47\n",
      "53\n",
      "59\n",
      "61\n",
      "67\n",
      "71\n"
     ]
    }
   ],
   "source": [
    "#A5\n",
    "'''Generator Function'''\n",
    "def f():\n",
    "    lst=[]\n",
    "    for num in range(2, 1001):\n",
    "        for i in range(2, num):\n",
    "            if num % i == 0:\n",
    "                break\n",
    "        else:\n",
    "            lst.append(num)\n",
    "    yield lst\n",
    "\n",
    "'''Using the next() method to print the first 20 prime nos'''    \n",
    "for i in f():\n",
    "    iteration = iter(i)\n",
    "    for j in range(20):\n",
    "        print(next(iteration))"
   ]
  },
  {
   "cell_type": "code",
   "execution_count": null,
   "id": "e6b90f44-3f0b-4d04-a3ff-c1613ce6e72a",
   "metadata": {},
   "outputs": [],
   "source": []
  }
 ],
 "metadata": {
  "kernelspec": {
   "display_name": "Python 3 (ipykernel)",
   "language": "python",
   "name": "python3"
  },
  "language_info": {
   "codemirror_mode": {
    "name": "ipython",
    "version": 3
   },
   "file_extension": ".py",
   "mimetype": "text/x-python",
   "name": "python",
   "nbconvert_exporter": "python",
   "pygments_lexer": "ipython3",
   "version": "3.10.8"
  }
 },
 "nbformat": 4,
 "nbformat_minor": 5
}
