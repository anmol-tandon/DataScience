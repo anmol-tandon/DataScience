{
 "cells": [
  {
   "cell_type": "markdown",
   "id": "ab4528c8-bd2a-444b-8357-b9c7612292b7",
   "metadata": {},
   "source": [
    "Q1. Explain Class and Object with respect to Object-Oriented Programming. Give a suitable example."
   ]
  },
  {
   "cell_type": "code",
   "execution_count": 4,
   "id": "d72581b9-a3d6-44a7-b662-c976c81926bd",
   "metadata": {},
   "outputs": [
    {
     "name": "stdout",
     "output_type": "stream",
     "text": [
      "5\n",
      "6\n",
      "11\n",
      "30\n"
     ]
    }
   ],
   "source": [
    "'''\n",
    "A1 Class is a blueprint or classification for creating objects and object is \n",
    "variable or instance of class using which we can invoke properties of class.\n",
    "\n",
    "We can use class and object to increase modularity while writing code which allow \n",
    "use to write clean code and to avoid rewriting same(repetitve) code. Example is \n",
    "shown below\n",
    "'''\n",
    "\n",
    "class maths:\n",
    "    def __init__(self,a,b):\n",
    "        self.a=a\n",
    "        self.b=b\n",
    "        \n",
    "    def add(self):\n",
    "        return self.a+self.b\n",
    "    \n",
    "    def multiply(self):\n",
    "        return self.a*self.b\n",
    "\n",
    "obj=maths(2,3)\n",
    "obj2=maths(5,6)\n",
    "print(obj.add())\n",
    "print(obj.multiply())\n",
    "print(obj2.add())\n",
    "print(obj2.multiply())"
   ]
  },
  {
   "cell_type": "code",
   "execution_count": null,
   "id": "8a7302fa-4d76-4a96-84e1-cd78e5391736",
   "metadata": {},
   "outputs": [],
   "source": []
  },
  {
   "cell_type": "markdown",
   "id": "efadbb93-aad5-4648-8751-18d35b69543c",
   "metadata": {},
   "source": [
    "Q2. Name the four pillars of OOPs."
   ]
  },
  {
   "cell_type": "code",
   "execution_count": null,
   "id": "9332d4ba-4019-43b6-a51c-a05bfe3a825b",
   "metadata": {},
   "outputs": [],
   "source": [
    "'''\n",
    "Ans2 \n",
    "1. Polymorphism\n",
    "2. Encapsulation\n",
    "3. Inheritence\n",
    "4. Abstraction\n",
    "'''"
   ]
  },
  {
   "cell_type": "code",
   "execution_count": null,
   "id": "e7bfb031-5eeb-43d7-a66a-a978a20db7f5",
   "metadata": {},
   "outputs": [],
   "source": []
  },
  {
   "cell_type": "markdown",
   "id": "0a91e947-a76b-4408-b0de-cdd97c75c006",
   "metadata": {},
   "source": [
    "Q3. Explain why the __init__() function is used. Give a suitable example."
   ]
  },
  {
   "cell_type": "code",
   "execution_count": 4,
   "id": "2136b732-d2c3-449a-a21e-c1846c76bfbd",
   "metadata": {},
   "outputs": [
    {
     "data": {
      "text/plain": [
       "5"
      ]
     },
     "execution_count": 4,
     "metadata": {},
     "output_type": "execute_result"
    }
   ],
   "source": [
    "'''\n",
    "Ans3\n",
    "\n",
    "init() func is a used to pass data to the class while creating object.\n",
    "by creating __init__ method we can pass the data proccess though object to class.\n",
    "Its a concept of using constructors.\n",
    "\n",
    "Example is shown below\n",
    "'''\n",
    "\n",
    "class A:\n",
    "    def __init__(self, var,var2):\n",
    "        self.var=var\n",
    "        self.var2=var2\n",
    "    def fun(self):\n",
    "        return self.var+self.var2\n",
    "    \n",
    "ob=A(2,3)\n",
    "ob.fun()\n",
    "    "
   ]
  },
  {
   "cell_type": "code",
   "execution_count": null,
   "id": "f4158042-3659-47bb-bb19-5c717fd5b1f0",
   "metadata": {},
   "outputs": [],
   "source": []
  },
  {
   "cell_type": "markdown",
   "id": "08a80046-a76a-42a0-98ad-e633aa95950e",
   "metadata": {},
   "source": [
    "Q4. Why self is used in OOPs?"
   ]
  },
  {
   "cell_type": "code",
   "execution_count": null,
   "id": "b7c970d1-f787-426d-8231-ead7b9bb4c76",
   "metadata": {},
   "outputs": [],
   "source": [
    "'''\n",
    "Ans4\n",
    "We can access data/attributes and methods within class using self.varName and \n",
    "self.methodName where self is instance of a class and it binds the attributes and methods\n",
    "to the class as shown in last example\n",
    "'''"
   ]
  },
  {
   "cell_type": "code",
   "execution_count": null,
   "id": "ebd395dc-b74a-439f-b0f1-0ebbebbbd774",
   "metadata": {},
   "outputs": [],
   "source": []
  },
  {
   "cell_type": "markdown",
   "id": "8bc1d881-ecf3-477d-b2a3-c7efdf992af1",
   "metadata": {},
   "source": [
    "Q5. What is inheritance? Give an example for each type of inheritance."
   ]
  },
  {
   "cell_type": "code",
   "execution_count": null,
   "id": "f32ccf7e-18d0-43fb-a6a9-e74099fa8cd2",
   "metadata": {},
   "outputs": [],
   "source": [
    "'''\n",
    "Ans5\n",
    "Inheritence is a property where one class can inherit property of other class that is it \n",
    "can access attributes or methods of other class. There are various types of inheritence\n",
    "like Single inheritence, Multiple inheritence, Multilvel inheritence, Hybrid inheritence\n",
    "Example is shown below\n",
    "'''"
   ]
  },
  {
   "cell_type": "code",
   "execution_count": 24,
   "id": "d0855bc6-fb95-4f63-810d-f3ff452929ed",
   "metadata": {},
   "outputs": [
    {
     "name": "stdout",
     "output_type": "stream",
     "text": [
      "Hi\n"
     ]
    }
   ],
   "source": [
    "#single inheritence\n",
    "class A:\n",
    "    def b(self):\n",
    "        return 'Hi'\n",
    "        \n",
    "class B (A):\n",
    "    def fun(self):\n",
    "        return self.b()\n",
    "    def fun2(self):\n",
    "        return 'All'\n",
    "\n",
    "obj=B()\n",
    "print(obj.fun())\n"
   ]
  },
  {
   "cell_type": "code",
   "execution_count": 30,
   "id": "05caf900-c443-4c0a-bec0-a3b0ff50e2ae",
   "metadata": {},
   "outputs": [
    {
     "data": {
      "text/plain": [
       "'Hi'"
      ]
     },
     "execution_count": 30,
     "metadata": {},
     "output_type": "execute_result"
    }
   ],
   "source": [
    "#multilevel inheritence\n",
    "class E (B):\n",
    "    def fun5(self):\n",
    "        pass\n",
    "\n",
    "'''we have inherited class B but we are able to access method of class A through ,\n",
    "multilevel inheritence\n",
    "'''\n",
    "\n",
    "obj4=E()\n",
    "obj4.b()\n",
    "    "
   ]
  },
  {
   "cell_type": "code",
   "execution_count": 31,
   "id": "795693ba-34c4-4cc8-9975-c9ae3bd5f845",
   "metadata": {},
   "outputs": [
    {
     "name": "stdout",
     "output_type": "stream",
     "text": [
      "Hi\n",
      "all\n"
     ]
    }
   ],
   "source": [
    "#multiple inheritence\n",
    "class C:\n",
    "    def fun3(self):\n",
    "        return 'all'\n",
    "\n",
    "#inheriting two different classes in one through multiple inheritence\n",
    "class D (A,C):\n",
    "    def three(self):\n",
    "        pass\n",
    "    \n",
    "obj2=D()\n",
    "print(obj2.b())\n",
    "print(obj2.fun3())"
   ]
  },
  {
   "cell_type": "code",
   "execution_count": 3,
   "id": "30c490ec-4c5e-4089-b2ad-fd496d5ba921",
   "metadata": {},
   "outputs": [
    {
     "name": "stdout",
     "output_type": "stream",
     "text": [
      "All\n",
      "Hi\n",
      "all\n"
     ]
    }
   ],
   "source": [
    "#Hybrid inheritence\n",
    "class A:\n",
    "    def b(self):\n",
    "        return 'Hi'\n",
    "        \n",
    "class B (A):\n",
    "    def fun(self):\n",
    "        return self.b()\n",
    "    def fun2(self):\n",
    "        return 'All'\n",
    "    \n",
    "class C:\n",
    "    def fun3(self):\n",
    "        return 'all'\n",
    "    \n",
    "class D(B,C):\n",
    "    def fun4(self):\n",
    "        print(\"i am of class D\")\n",
    "\n",
    "''' inheriting class b which further inherits class a and inheriting class c \n",
    "thus inheriting properties from different class following different types of inheritence\n",
    "'''\n",
    "obj = D()\n",
    "print(obj.fun2())\n",
    "print(obj.b())\n",
    "print(obj.fun3())"
   ]
  },
  {
   "cell_type": "code",
   "execution_count": null,
   "id": "9acb77df-0b06-4768-9800-c3be27a81193",
   "metadata": {},
   "outputs": [],
   "source": []
  }
 ],
 "metadata": {
  "kernelspec": {
   "display_name": "Python 3 (ipykernel)",
   "language": "python",
   "name": "python3"
  },
  "language_info": {
   "codemirror_mode": {
    "name": "ipython",
    "version": 3
   },
   "file_extension": ".py",
   "mimetype": "text/x-python",
   "name": "python",
   "nbconvert_exporter": "python",
   "pygments_lexer": "ipython3",
   "version": "3.10.8"
  }
 },
 "nbformat": 4,
 "nbformat_minor": 5
}
