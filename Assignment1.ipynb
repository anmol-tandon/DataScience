{
 "cells": [
  {
   "cell_type": "code",
   "execution_count": 1,
   "id": "eea34ba4-080e-4adc-b863-700c43861a03",
   "metadata": {},
   "outputs": [
    {
     "name": "stdout",
     "output_type": "stream",
     "text": [
      "abc\n",
      "['a', 2, True, (9+5j)]\n",
      "2.5\n",
      "('awe', 5, True)\n"
     ]
    }
   ],
   "source": [
    "\"\"\"\n",
    "Q1. Create one variable containing following type of data:\n",
    "(i) string\n",
    "(ii) list\n",
    "(iii) float\n",
    "(iv) tuple\n",
    "\"\"\"\n",
    "\n",
    "#Answer 1\n",
    "var=\"abc\"\n",
    "var2=['a',2,True,9+5j]\n",
    "var3=2.5\n",
    "var4=('awe',5,True)\n",
    "print(var,var2,var3,var4, sep='\\n')"
   ]
  },
  {
   "cell_type": "code",
   "execution_count": null,
   "id": "b1c44ac9-22ad-4051-a16d-fd321b6fc8a5",
   "metadata": {},
   "outputs": [],
   "source": [
    "\"\"\"\n",
    "Q2. Given are some following variables containing data:\n",
    "(i) var1 = ' '\n",
    "(ii) var2 = '[ DS , ML , Python]'\n",
    "(iii) var3 = [ 'DS' , 'ML' , 'Python' ]\n",
    "(iv) var4 = 1.\n",
    "What will be the data type of the above given variable.\n",
    "\"\"\"\n",
    "\n",
    "#Answer 2\n",
    "\"\"\"\n",
    "1. string\n",
    "2. string\n",
    "3. list\n",
    "4. float\n",
    "\"\"\""
   ]
  },
  {
   "cell_type": "code",
   "execution_count": null,
   "id": "1013057c-3a71-415f-b0ea-119bdcbf611c",
   "metadata": {},
   "outputs": [],
   "source": [
    "\"\"\"\n",
    "Q3. Explain the use of the following operators using an example:\n",
    "(i) /\n",
    "(ii) %\n",
    "(iii) //\n",
    "(iv) **\n",
    "\"\"\"\n",
    "\n",
    "#Answer3\n",
    "\"\"\"\n",
    "1. / operator is used for division purpose. For example 5/2 gives 2.5 as output.\n",
    "2. % is used to get remainder value when 2 numbers are divided. For example 5%2 gives 1 as output.\n",
    "3. // is used to give quoptient when 2 numbers are divided. For example 5//2 gives 2 as output\n",
    "4. ** is used to set power value. For example 2**3 gives 8 as output\n",
    "\"\"\""
   ]
  },
  {
   "cell_type": "code",
   "execution_count": 2,
   "id": "9ed8e73f-5dee-47d1-b531-e569e58905fb",
   "metadata": {},
   "outputs": [
    {
     "name": "stdout",
     "output_type": "stream",
     "text": [
      "hello : <class 'str'>\n",
      "2 : <class 'int'>\n",
      "True : <class 'bool'>\n",
      "(5+3j) : <class 'complex'>\n",
      "a : <class 'str'>\n",
      "3.4 : <class 'float'>\n",
      "5.7 : <class 'float'>\n",
      "9 : <class 'int'>\n",
      "[1, 2, 3] : <class 'list'>\n",
      "2 : <class 'int'>\n"
     ]
    }
   ],
   "source": [
    "\"\"\"\n",
    "Q4. Create a list of length 10 of your choice containing multiple types of data. Using for loop print the\n",
    "element and its data type.\n",
    "\"\"\"\n",
    "\n",
    "#Answer 4\n",
    "l=[\"hello\", 2, True, 5+3j, 'a', 3.4, 5.7, 9, [1,2,3], 2]\n",
    "for i in range(0,len(l)):\n",
    "    print(l[i], ':',  type(l[i]))\n",
    "    "
   ]
  },
  {
   "cell_type": "code",
   "execution_count": 1,
   "id": "3faf794c-1726-4476-b192-c7c9fe273c3c",
   "metadata": {},
   "outputs": [
    {
     "name": "stdin",
     "output_type": "stream",
     "text": [
      " 10\n",
      " 2\n"
     ]
    },
    {
     "name": "stdout",
     "output_type": "stream",
     "text": [
      "10 is divisible by 2 , 5 times\n"
     ]
    }
   ],
   "source": [
    "\"\"\"\n",
    "Q5. Using a while loop, verify if the number A is purely divisible by number B and if so then how many\n",
    "times it can be divisible.\n",
    "\"\"\"\n",
    "\n",
    "#Answer5\n",
    "A=int(input())\n",
    "B=int(input())\n",
    "while(A%B==0):\n",
    "    output=A/B\n",
    "    print(A, \"is divisible by\", B, \",\", int(output), \"times\") \n",
    "    break\n",
    "else:\n",
    "    print(A, \"is not divisible by\", B)"
   ]
  },
  {
   "cell_type": "code",
   "execution_count": 7,
   "id": "e548531f-5e67-42a8-99f6-ae7bcb3ae14c",
   "metadata": {},
   "outputs": [
    {
     "name": "stdout",
     "output_type": "stream",
     "text": [
      "927  is divisble by 3\n",
      "572  is not divisble by 3\n",
      "478  is not divisble by 3\n",
      "553  is not divisble by 3\n",
      "409  is not divisble by 3\n",
      "113  is not divisble by 3\n",
      "253  is not divisble by 3\n",
      "713  is not divisble by 3\n",
      "714  is divisble by 3\n",
      "89  is not divisble by 3\n",
      "53  is not divisble by 3\n",
      "337  is not divisble by 3\n",
      "423  is divisble by 3\n",
      "443  is not divisble by 3\n",
      "906  is divisble by 3\n",
      "214  is not divisble by 3\n",
      "373  is not divisble by 3\n",
      "269  is not divisble by 3\n",
      "145  is not divisble by 3\n",
      "911  is not divisble by 3\n",
      "709  is not divisble by 3\n",
      "16  is not divisble by 3\n",
      "396  is divisble by 3\n",
      "634  is not divisble by 3\n",
      "220  is not divisble by 3\n"
     ]
    }
   ],
   "source": [
    "\"\"\"\n",
    "Q6. Create a list containing 25 int type data. Using for loop and if-else condition print if the element is\n",
    "divisible by 3 or not.\n",
    "\"\"\"\n",
    "\n",
    "#Answer 6\n",
    "import random\n",
    "l=[]\n",
    "for i in range(25):\n",
    "    l.append((random.randint(1,1000)))\n",
    "for y in range(25):\n",
    "    if(l[y]%3==0):\n",
    "        print(l[y], \" is divisble by 3\")\n",
    "    else:\n",
    "        print(l[y], \" is not divisble by 3\")\n",
    "\n",
    " \n"
   ]
  },
  {
   "cell_type": "code",
   "execution_count": null,
   "id": "c532ca78-ac53-46dd-abd8-faef904220b1",
   "metadata": {},
   "outputs": [],
   "source": [
    "\"\"\"\n",
    "Q7. What do you understand about mutable and immutable data types? Give examples for both showing\n",
    "this property.\n",
    "\"\"\"\n",
    "\n",
    "#Answer7\n",
    "\n",
    "\"\"\"\n",
    "Mutable data types are one which can be modified once it \n",
    "is created. Example lists and if we run below code it will \n",
    "execute fine which shows property of mutability\n",
    "\"\"\"\n",
    "l=[2,\"abc\",3.5]\n",
    "l[1]=\"zxc\"\n",
    "print(l)\n",
    "\n",
    "\"\"\"\n",
    "Immutable datatypes are one which cannotbe modified once it\n",
    "is created. Example String and if we run below code it will\n",
    "throw error which shows the property that string is \n",
    "immutable\n",
    "\"\"\"\n",
    "\n",
    "a=\"awer\"\n",
    "a[2]='2'\n",
    "print(a)\n"
   ]
  },
  {
   "cell_type": "code",
   "execution_count": null,
   "id": "769eea17-3e82-4191-94ad-912f7ef60088",
   "metadata": {},
   "outputs": [],
   "source": []
  }
 ],
 "metadata": {
  "kernelspec": {
   "display_name": "Python 3 (ipykernel)",
   "language": "python",
   "name": "python3"
  },
  "language_info": {
   "codemirror_mode": {
    "name": "ipython",
    "version": 3
   },
   "file_extension": ".py",
   "mimetype": "text/x-python",
   "name": "python",
   "nbconvert_exporter": "python",
   "pygments_lexer": "ipython3",
   "version": "3.10.8"
  }
 },
 "nbformat": 4,
 "nbformat_minor": 5
}
