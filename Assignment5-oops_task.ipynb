{
 "cells": [
  {
   "cell_type": "markdown",
   "id": "b2f48820-1bea-427c-88b4-43b9ec017504",
   "metadata": {},
   "source": [
    "Q1, Create a vehicle class with an init method having instance variables as name_of_vehicle, max_speed and average_of_vehicle. "
   ]
  },
  {
   "cell_type": "code",
   "execution_count": 4,
   "id": "e44dd3a8-2164-48f9-acbd-193f97dc7ac3",
   "metadata": {},
   "outputs": [
    {
     "name": "stdout",
     "output_type": "stream",
     "text": [
      "Audiq7\n",
      "250\n",
      "14\n"
     ]
    }
   ],
   "source": [
    "# Ans1\n",
    "class vehicle:\n",
    "    \n",
    "    def __init__(self, name_of_vehicle, max_speed, average_of_vehicle):\n",
    "        self.name_of_vehicle=name_of_vehicle\n",
    "        self.max_speed=max_speed\n",
    "        self.average_of_vehicle=average_of_vehicle\n",
    "        \n",
    "obj=vehicle('Audiq7', 250, 14)\n",
    "print(obj.name_of_vehicle)\n",
    "print(obj.max_speed)\n",
    "print(obj.average_of_vehicle)"
   ]
  },
  {
   "cell_type": "code",
   "execution_count": null,
   "id": "11c71a57-19f5-4662-bd18-2559ebe1a373",
   "metadata": {},
   "outputs": [],
   "source": []
  },
  {
   "cell_type": "markdown",
   "id": "a635e62b-f07d-4a05-b6be-2068e06d9c60",
   "metadata": {},
   "source": [
    "Q2.  Create a child class car from the vehicle class created in Que 1, which will inherit the vehicle class.\n",
    "\n",
    "Create a method named seating_capacity which takes capacity as an argument and returns the name of the vehicle and its seating capacity."
   ]
  },
  {
   "cell_type": "code",
   "execution_count": 23,
   "id": "06bb5e19-d654-493a-9d5f-7b99ff416866",
   "metadata": {},
   "outputs": [
    {
     "name": "stdout",
     "output_type": "stream",
     "text": [
      "('Audi Q7', 'Seating capacity is 5')\n"
     ]
    }
   ],
   "source": [
    "class car (vehicle):\n",
    "    \n",
    "    def __init__(self, name_of_vehicle, max_speed, average_of_vehicle):\n",
    "        super().__init__(name_of_vehicle, max_speed, average_of_vehicle)\n",
    "        \n",
    "    def seating_capacity(self,cap):\n",
    "        return self.name_of_vehicle, f\"Seating capacity is {cap}\"\n",
    "\n",
    "obj2=car('Audi Q7', 250, 14)\n",
    "print(obj2.seating_capacity(5))"
   ]
  },
  {
   "cell_type": "code",
   "execution_count": null,
   "id": "1ce0e5a8-85bb-4a6e-a4f9-515e47a9324d",
   "metadata": {},
   "outputs": [],
   "source": []
  },
  {
   "cell_type": "markdown",
   "id": "cfe5721a-b098-4ba8-a71f-572eaab9b8b5",
   "metadata": {},
   "source": [
    "Q3. What is multiple inheritance? Write a python code to demonstrate multiple inheritance."
   ]
  },
  {
   "cell_type": "code",
   "execution_count": 29,
   "id": "f63a167a-4b0d-46e2-b96f-d0f2e0fde733",
   "metadata": {},
   "outputs": [
    {
     "name": "stdout",
     "output_type": "stream",
     "text": [
      "fun of class A\n",
      "5\n"
     ]
    }
   ],
   "source": [
    "'''\n",
    "Ans 3\n",
    "Multiple inheritence is a property which allows us to inherit\n",
    "property of more than 1 parent class that is we can access attributes\n",
    "or methods of more than 1 different class.\n",
    "Example is shown below\n",
    "'''\n",
    "class A:\n",
    "    def fun():\n",
    "        return 'fun of class A'\n",
    "\n",
    "class B:\n",
    "    def fun2():\n",
    "        return 5\n",
    "\n",
    "class C(A,B):\n",
    "    def fun3():\n",
    "        pass\n",
    "\n",
    "obj=C()\n",
    "print(C.fun())\n",
    "print(C.fun2())"
   ]
  },
  {
   "cell_type": "code",
   "execution_count": null,
   "id": "83b71fa3-bf0b-4fbc-8aff-f1c6051b3398",
   "metadata": {},
   "outputs": [],
   "source": []
  },
  {
   "cell_type": "markdown",
   "id": "6cd64cc2-b39e-4d59-86de-2f18d6414215",
   "metadata": {},
   "source": [
    "Q4. What are getter and setter in python? Create a class and create a getter and a setter method in this class."
   ]
  },
  {
   "cell_type": "code",
   "execution_count": 20,
   "id": "212bac40-019e-4e6a-85f6-27234e61270a",
   "metadata": {},
   "outputs": [
    {
     "name": "stdout",
     "output_type": "stream",
     "text": [
      "123456789\n",
      "987654321\n"
     ]
    }
   ],
   "source": [
    "'''\n",
    "Ans4\n",
    "To avoid direct access of class data to the user, we use private variables but using \n",
    "getter and setter we can allow external user to access or modify provate values.\n",
    "Example is shwon below\n",
    "'''\n",
    "\n",
    "class phoneno:\n",
    "    def __init__(self, no =123456789):\n",
    "        self.__no=no\n",
    "        \n",
    "    #getter method  \n",
    "    @property\n",
    "    def get_no(self):\n",
    "        return self.__no\n",
    "    \n",
    "    #setter method\n",
    "    @get_no.setter\n",
    "    def set_no(self, val):\n",
    "        self.__no=val\n",
    "\n",
    "ob=phoneno()\n",
    "print(ob.get_no)\n",
    "#modifying private variable of class\n",
    "ob.set_no=987654321\n",
    "print(ob.get_no)\n",
    "        "
   ]
  },
  {
   "cell_type": "code",
   "execution_count": null,
   "id": "d732a04b-a2e4-421e-aa7c-0bbc3a6043d6",
   "metadata": {},
   "outputs": [],
   "source": []
  },
  {
   "cell_type": "markdown",
   "id": "0f26b9d3-1d31-4a8a-8d51-eb90aecd71e4",
   "metadata": {},
   "source": [
    "Q5.What is method overriding in python? Write a python code to demonstrate method overriding."
   ]
  },
  {
   "cell_type": "code",
   "execution_count": 21,
   "id": "1ae1a666-4c39-435f-8aaf-17617d0cb1ad",
   "metadata": {},
   "outputs": [
    {
     "data": {
      "text/plain": [
       "5"
      ]
     },
     "execution_count": 21,
     "metadata": {},
     "output_type": "execute_result"
    }
   ],
   "source": [
    "'''\n",
    "Ans5\n",
    "Method overriding is a ability to override the functionality of method define \n",
    "in parent class from child's class which can happend if name of method defined in \n",
    "child class is same as of method defined in parent class and has same no of arguments \n",
    "passed.\n",
    "\n",
    "Example is shown below\n",
    "'''\n",
    "\n",
    "class parent():\n",
    "    def fun(self):\n",
    "        return 4\n",
    "    \n",
    "class child (parent):\n",
    "    def fun(self):\n",
    "        return 5\n",
    "    \n",
    "obj =child()\n",
    "obj.fun()\n"
   ]
  },
  {
   "cell_type": "code",
   "execution_count": null,
   "id": "f22cd693-9e61-4c3f-b562-e4ff6c063219",
   "metadata": {},
   "outputs": [],
   "source": []
  }
 ],
 "metadata": {
  "kernelspec": {
   "display_name": "Python 3 (ipykernel)",
   "language": "python",
   "name": "python3"
  },
  "language_info": {
   "codemirror_mode": {
    "name": "ipython",
    "version": 3
   },
   "file_extension": ".py",
   "mimetype": "text/x-python",
   "name": "python",
   "nbconvert_exporter": "python",
   "pygments_lexer": "ipython3",
   "version": "3.10.8"
  }
 },
 "nbformat": 4,
 "nbformat_minor": 5
}
