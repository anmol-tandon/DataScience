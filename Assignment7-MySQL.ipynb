{
 "cells": [
  {
   "cell_type": "markdown",
   "id": "ce084fb4-4777-42d2-b659-8c8d807c0646",
   "metadata": {},
   "source": [
    "Q1. What is a database? Differentiate between SQL and NoSQL databases.\n",
    "\n",
    "A1. A database is a collection of data that is stored in a way which allows efficient retrieval, management, and manipulation of data. It serves as a repository for storing and organizing large volumes of information, making it accessible and usable for various purposes.\n",
    "\n",
    "1) SQL databases are relational databases that store data in structured tables with predefined schemas, making them ideal for structured data with well-defined relationships. (structural database)\n",
    "\n",
    "2) They require a fixed schema, where data structure must be defined before insertion.\n",
    "\n",
    "3) SQL databases use the SQL query language for data management and are typically scaled vertically by adding resources to a single server.\n",
    "\n",
    "1) NoSQL databases are designed to handle unstructured, semi-structured, or structured data. (unstructured database)\n",
    "\n",
    "2) They allowing changes without predefined schemas, often have flexible or dynamic schemas, . \n",
    "\n",
    "3) They use various query languages tailored to specific data models and are scaled horizontally by adding servers to a distributed cluster.\n",
    "\n"
   ]
  },
  {
   "cell_type": "code",
   "execution_count": null,
   "id": "78c0d478-ca5a-4513-a16b-f7e27a077cd1",
   "metadata": {},
   "outputs": [],
   "source": []
  },
  {
   "cell_type": "markdown",
   "id": "97480a31-5661-4a0b-9803-56580fac569b",
   "metadata": {},
   "source": [
    "Q2. What is DDL? Explain why CREATE, DROP, ALTER, and TRUNCATE are used with an example.\n",
    "\n",
    "A2. DDL(Data Definition Language) is used to define and manage the structure of a database. DDL commands are used to create, modify, and delete database objects like tables, indexes, and constraints.\n",
    "\n",
    "* CREATE: It is used to create a new database object such as a table, view, index, or schema. Example to create a new table named \"employees\" is shown below\n",
    "\n",
    "Command - CREATE TABLE if not exists employees (employee_id INT, first_name VARCHAR(50))\n",
    "\n",
    "* DROP: The DROP statement is used to delete existing database objects, such as tables or indexes. Example, to delete the \"employees\" table created earlier is shown below:\n",
    "\n",
    "Command - DROP TABLE employees;\n",
    "\n",
    "* ALTER: The ALTER statement is used to modify the structure of an existing database object. We use it to add, modify, or delete columns in a table, change data types, or add constraints. Example, to add a new column \"email\" to the \"employees\" table is shown below\n",
    "\n",
    "Command -\n",
    "ALTER TABLE employees\n",
    "ADD email VARCHAR(100);\n",
    "\n",
    "\n",
    "* TRUNCATE: The TRUNCATE statement is used to remove all rows from a table but it retains the table structure. Example of removing all records from the \"employees\" table is shown below\n",
    "\n",
    "Command - TRUNCATE TABLE employees;\n",
    "\n",
    "\n"
   ]
  },
  {
   "cell_type": "code",
   "execution_count": null,
   "id": "eb6a5a09-6c41-4b87-84ef-7b239069d8fe",
   "metadata": {},
   "outputs": [],
   "source": []
  },
  {
   "cell_type": "markdown",
   "id": "db568375-65c0-4ec7-bbf2-ef918442aadf",
   "metadata": {},
   "source": [
    "Q3. What is DML? Explain INSERT, UPDATE, and DELETE with an example.\n",
    "\n",
    "A3. DML(Data Manipulation Language) is used to perform operations on the data within those database objects. It is used to create and modify database objects like tables, indexes, views, and constraints.\n",
    "\n",
    "* INSERT: The INSERT statement is used to add new rows into a database table. We can insert data into specific columns or all columns in a table. Example to insert a new employee with the specified information into the \"employees\" table is shoqn below\n",
    "\n",
    "Command - \n",
    "INSERT INTO employees (employee_id, first_name, last_name, hire_date)\n",
    "VALUES (101, 'John', 'Doe', '2023-10-19');\n",
    "\n",
    "\n",
    "* UPDATE: The UPDATE statement is used to modify existing records in a database table. We can update data based on a condition that identifies the rows to be changed. Example to increase the salary of all employees in the \"HR\" department by 10% is shown below.\n",
    "\n",
    "Command - \n",
    "UPDATE employees\n",
    "SET salary = salary * 1.10\n",
    "WHERE department = 'HR';\n",
    "\n",
    "\n",
    "* DELETE: The DELETE statement is used to remove specific records from a database table based on a condition. Example to delete all orders placed before 2020 from the \"orders\" table is shown below.\n",
    "\n",
    "Command - \n",
    "DELETE FROM orders\n",
    "WHERE order_date < '2020-01-01';\n"
   ]
  },
  {
   "cell_type": "code",
   "execution_count": null,
   "id": "ef6df82a-a81f-473f-b290-b5641f16148d",
   "metadata": {},
   "outputs": [],
   "source": []
  },
  {
   "cell_type": "markdown",
   "id": "624b4e97-931b-44ac-9b8e-28db5effb117",
   "metadata": {},
   "source": [
    "Q4. What is DQL? Explain SELECT with an example.\n",
    "\n",
    "A4. DQL(Data Query Language) is used to  retrieve data from one or more tables in a database. It allows you to specify which columns you want to retrieve, filter the data based on conditions, and order the results\n",
    "\n",
    "* SELECT: The SELECT statement is used to retrieve data from one or more tables in a database. It allows you to specify which columns you want to retrieve, filter the data based on conditions, and order the results. It's one of the most important and versatile SQL commands. Example:\n",
    "\n",
    "Command - \n",
    "SELECT student_id, first_name, last_name, birth_date FROM students WHERE major = 'Computer Science';"
   ]
  },
  {
   "cell_type": "code",
   "execution_count": null,
   "id": "be1fc534-53a1-45c7-85da-f92d961f0993",
   "metadata": {},
   "outputs": [],
   "source": []
  },
  {
   "cell_type": "markdown",
   "id": "a728e49d-bd3c-4dcf-837f-abea2fcd9830",
   "metadata": {},
   "source": [
    "Q5. Explain Primary Key and Foreign Key.\n",
    "\n",
    "A5. Primary Key\n",
    "It is unique identity for a table. It's a special column that ensures that each row within that table has a distinct identifier. This unique key is often a number or code that helps in easy referencing and organizing data, making it easier to locate specific records. It's the primary means of distinguishing one row from another within the table.\n",
    "\n",
    "Foreign Key \n",
    "It serves as a link between two tables. t's used to connect data in one table to data in another. A foreign key establishes a relationship between tables, making sure that the data in one table matches with data in another, usually by referencing the primary key of the related table. \n",
    "\n",
    "Example:\n",
    "\n",
    "\n",
    "Lets say we have two tables in a database, Students and Courses. The Students table contains information about students, and the Courses table contains information about courses offered by a school.\n",
    "\n",
    "Primary Key Example:\n",
    "In the Students table, we might have a column called student_id that is set as the primary key. Each student is assigned a unique student_id when they join the school. This primary key ensures that every student in the table has a distinct identifier.\n",
    "\n",
    "Foreign Key Example:\n",
    "In the Courses table, we might have a column called student_id as a foreign key. This student_id references the Students table, linking each course to a specific student. This connection ensures that the data in the Courses table relates to the students in the Students table."
   ]
  },
  {
   "cell_type": "code",
   "execution_count": null,
   "id": "ada58d4c-4ab8-4417-8d1e-9f65a98e06d7",
   "metadata": {},
   "outputs": [],
   "source": []
  },
  {
   "cell_type": "code",
   "execution_count": null,
   "id": "26d04dd3-30ed-4deb-9ab3-b22e2aebc882",
   "metadata": {},
   "outputs": [],
   "source": [
    "# Q6. Write a python code to connect MySQL to python. Explain the cursor() and execute() method.\n",
    "# A6. \n",
    "\n",
    "import mysql.connector\n",
    "mydb = mysql.connector.connect(\n",
    "  host=\"localhost\",\n",
    "  user=\"abc\",\n",
    "  password=\"password\"\n",
    ")\n",
    "print(mydb)\n",
    "mycursor = mydb.cursor()\n",
    "mycursor.execute(\"CREATE DATABASE if not exists library\")\n",
    "mydb.close()\n",
    "\n",
    "''' \n",
    "The cursor() method is used to create a cursor object. After creating a cursor, we can use it to execute SQL \n",
    "statements in the database as shown in above code.\n",
    "\n",
    "The execute() method is used to execute SQL  queries using the cursor object. We can pass the SQL query as a \n",
    "string to the execute() method and it sends the statement to the database for execution. Example is shown in \n",
    "above code.\n",
    "\n",
    "'''"
   ]
  },
  {
   "cell_type": "code",
   "execution_count": null,
   "id": "7718ba39-8f80-4088-96e3-1f80bf1ab8a5",
   "metadata": {},
   "outputs": [],
   "source": []
  },
  {
   "cell_type": "markdown",
   "id": "c27ef907-ece9-46ac-b2f4-3a839106bc62",
   "metadata": {},
   "source": [
    "Q7. Give the order of execution of SQL clauses in an SQL query.\n",
    "\n",
    "A7. Order of execution for SQL clauses in a query is as follows:\n",
    "\n",
    "FROM: Specifies data sources.\n",
    "\n",
    "JOIN: Combines data from multiple tables .\n",
    "\n",
    "WHERE: Filters data based on conditions.\n",
    "\n",
    "GROUP BY: Groups data as specified.\n",
    "\n",
    "HAVING: Filters grouped data.\n",
    "\n",
    "SELECT: Chooses columns to retrieve.\n",
    "\n",
    "DISTINCT: Removes duplicates (if used).\n",
    "\n",
    "ORDER BY: Sorts the result.\n",
    "\n",
    "LIMIT/OFFSET: Limits the number of rows returned."
   ]
  },
  {
   "cell_type": "code",
   "execution_count": null,
   "id": "37f278c3-8950-471e-a7e2-ece91f2d36d5",
   "metadata": {},
   "outputs": [],
   "source": []
  }
 ],
 "metadata": {
  "kernelspec": {
   "display_name": "Python 3 (ipykernel)",
   "language": "python",
   "name": "python3"
  },
  "language_info": {
   "codemirror_mode": {
    "name": "ipython",
    "version": 3
   },
   "file_extension": ".py",
   "mimetype": "text/x-python",
   "name": "python",
   "nbconvert_exporter": "python",
   "pygments_lexer": "ipython3",
   "version": "3.10.8"
  }
 },
 "nbformat": 4,
 "nbformat_minor": 5
}
