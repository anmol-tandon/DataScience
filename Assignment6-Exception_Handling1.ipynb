{
 "cells": [
  {
   "cell_type": "markdown",
   "id": "e6a57a8f-f8ad-4c71-bf1a-d2a7b2ab52a0",
   "metadata": {},
   "source": [
    "Q1. What is an Exception in python? Write the difference between Exceptions and Syntax errors."
   ]
  },
  {
   "cell_type": "markdown",
   "id": "f7e6a828-50da-4c93-8634-a58f52bbde58",
   "metadata": {},
   "source": [
    "Ans 1. Exceptions are errors which can occur at run time based on user input where as syntax errors are errors which occur when code syntax is not correct. Syntax errors stops the program where as exceptions disrupts the flow of program."
   ]
  },
  {
   "cell_type": "code",
   "execution_count": null,
   "id": "97ed8af3-f02c-4553-9048-0212fbe763ad",
   "metadata": {},
   "outputs": [],
   "source": []
  },
  {
   "cell_type": "markdown",
   "id": "d488e0f8-aa85-4431-81bf-5a761f609eb7",
   "metadata": {},
   "source": [
    "Q2. What happens when an exception is not handled? Explain with an example."
   ]
  },
  {
   "cell_type": "markdown",
   "id": "b57717de-713b-4b7d-ac29-c86c59fa022c",
   "metadata": {},
   "source": [
    "Ans 2. If exception is not handled then it can crash the program and thus rest of the code will not run, thus handling exception is necessary so that rest of the can be run. Example is shown below where division by zero exception is handled and thus even if error occurs print function at last is executed where as if exception not handled then it will not run"
   ]
  },
  {
   "cell_type": "code",
   "execution_count": 2,
   "id": "1b5958d7-523c-46a3-ae9d-09cc7c46b62f",
   "metadata": {},
   "outputs": [
    {
     "name": "stdin",
     "output_type": "stream",
     "text": [
      "Enter the denominator 0\n"
     ]
    },
    {
     "name": "stdout",
     "output_type": "stream",
     "text": [
      "Denominator entered is not valid and thus division by zero error is occuring\n",
      "Finsih\n"
     ]
    }
   ],
   "source": [
    "try:\n",
    "    denominator=int(input('Enter the denominator'))\n",
    "    out=100/denominator\n",
    "except Exception as e:\n",
    "    print(\"Denominator entered is not valid and thus {} error is occuring\".format(e))\n",
    "print(\"Finsih\")"
   ]
  },
  {
   "cell_type": "code",
   "execution_count": null,
   "id": "7ea4a414-903e-43ea-b048-8f95dd0a2cfd",
   "metadata": {},
   "outputs": [],
   "source": []
  },
  {
   "cell_type": "markdown",
   "id": "f67d6001-68c7-44ce-be89-0e1cadc3aeb5",
   "metadata": {},
   "source": [
    "Q3. Which Python statements are used to catch and handle exceptions? Explain with an example."
   ]
  },
  {
   "cell_type": "markdown",
   "id": "e8bb52ca-f439-4a0d-ab1b-0bde02046c97",
   "metadata": {},
   "source": [
    "Ans 3. Try and catch block is used to catch and handle exceptions. Example is shown below where import error is handled"
   ]
  },
  {
   "cell_type": "code",
   "execution_count": 5,
   "id": "73714b0d-96bd-45ed-ae66-dce38bb4e89b",
   "metadata": {},
   "outputs": [
    {
     "name": "stdout",
     "output_type": "stream",
     "text": [
      "No module named 'abcc'\n"
     ]
    }
   ],
   "source": [
    "try:\n",
    "    import abcc\n",
    "except Exception as e:\n",
    "    print(e)"
   ]
  },
  {
   "cell_type": "code",
   "execution_count": null,
   "id": "e3c1f349-f5b2-4f21-9bc9-7e7c90c30555",
   "metadata": {},
   "outputs": [],
   "source": []
  },
  {
   "cell_type": "markdown",
   "id": "219128a2-f6cd-4392-a56e-c26f2836d781",
   "metadata": {},
   "source": [
    "Q4. Explain with an example:\n",
    "\n",
    "a. try and else\n",
    "\n",
    "b. finally\n",
    "\n",
    "c. raise"
   ]
  },
  {
   "cell_type": "markdown",
   "id": "a54fcb80-8fb8-435f-8205-d2b05d41c793",
   "metadata": {},
   "source": [
    "#Ans 4. \n",
    "\n",
    "# try and else- else block will only run if try is running fine and giving no exception\n",
    "\n",
    "try:\n",
    "    a=2/1\n",
    "except Exception as e:\n",
    "    print(e)\n",
    "else:\n",
    "    print(\"Program is running fine \\n\") \n",
    "    \n",
    "# finally- this block will always run no matter try block gives exception or not\n",
    "\n",
    "try:\n",
    "    a=2/0\n",
    "except Exception as e:\n",
    "    print(e)\n",
    "else:\n",
    "    print(\"Program is running fine\") \n",
    "finally:\n",
    "    print(\"Program is finished\\n\")\n",
    "    \n",
    "#raise- is used to raise custom exceptions\n",
    "\n",
    "class customError(Exception):\n",
    "    def __init__(self,msg):\n",
    "        self.msg=msg\n",
    "\n",
    "def ageCheck(age):\n",
    "    if age<0 or age>100:\n",
    "        raise customError(\"Age is not correct\")\n",
    "    else:\n",
    "        print(\"Age entered is correct\")\n",
    "\n",
    "age=int(input(\"Enter your age\"))\n",
    "try:\n",
    "    ageCheck(age)\n",
    "except customError as e:\n",
    "    print(e)"
   ]
  },
  {
   "cell_type": "code",
   "execution_count": null,
   "id": "ebebb0cf-b9d0-4c7f-9f8b-d2f14400192c",
   "metadata": {},
   "outputs": [],
   "source": []
  },
  {
   "cell_type": "markdown",
   "id": "575375b9-b582-44ea-a948-1de4f3837644",
   "metadata": {},
   "source": [
    "Q5. What are Custom Exceptions in python? Why do we need Custom Exceptions? Explain with an example."
   ]
  },
  {
   "cell_type": "markdown",
   "id": "4b1f68a5-9ebb-4032-958d-12f12b30f1fb",
   "metadata": {},
   "source": [
    "Ans 5. \n",
    "Custom Exceptions in python are user defined exceptions where user defines the error. We need cutom exceptions so that we can also define exceptions based on user needs or project requirement. Example is shown below"
   ]
  },
  {
   "cell_type": "code",
   "execution_count": null,
   "id": "28b7ccb4-d006-4c47-9749-80ae2f3dec2f",
   "metadata": {},
   "outputs": [
    {
     "name": "stdin",
     "output_type": "stream",
     "text": [
      "Enter your age 123\n"
     ]
    },
    {
     "name": "stdout",
     "output_type": "stream",
     "text": [
      "Age is not correct\n"
     ]
    }
   ],
   "source": [
    "class customError(Exception):\n",
    "    def __init__(self,msg):\n",
    "        self.msg=msg\n",
    "\n",
    "def ageCheck(age):\n",
    "    if age<0 or age>100:\n",
    "        raise customError(\"Age is not correct\")\n",
    "    else:\n",
    "        print(\"Age entered is correct\")\n",
    "\n",
    "age=int(input(\"Enter your age\"))\n",
    "try:\n",
    "    ageCheck(age)\n",
    "except customError as e:\n",
    "    print(e)"
   ]
  },
  {
   "cell_type": "code",
   "execution_count": null,
   "id": "25eab49e-c97a-4293-bd8a-eeee8f6ce52b",
   "metadata": {},
   "outputs": [],
   "source": []
  },
  {
   "cell_type": "markdown",
   "id": "ddf6f22c-1b63-4af7-a6e5-9f73c33e72b3",
   "metadata": {},
   "source": [
    "Q6. Create a custom exception class. Use this class to handle an exception."
   ]
  },
  {
   "cell_type": "code",
   "execution_count": 23,
   "id": "3627fa02-7f77-4067-bdc7-57491ca39a8e",
   "metadata": {},
   "outputs": [
    {
     "name": "stdin",
     "output_type": "stream",
     "text": [
      "Enter your marks -9\n"
     ]
    },
    {
     "name": "stdout",
     "output_type": "stream",
     "text": [
      "Marks can not be negative\n"
     ]
    }
   ],
   "source": [
    "# Ans 6.\n",
    "\n",
    "class customException(Exception):\n",
    "    def __init__(self,msg):\n",
    "        self.msg=msg\n",
    "\n",
    "def marksCheck(age):\n",
    "    if age<0:\n",
    "        raise customException(\"Marks can not be negative\")\n",
    "    else:\n",
    "        print(\"Marks entered are correct\")\n",
    "\n",
    "age=int(input(\"Enter your marks\"))\n",
    "try:\n",
    "    marksCheck(age)\n",
    "except customException as e:\n",
    "    print(e)"
   ]
  },
  {
   "cell_type": "code",
   "execution_count": null,
   "id": "487e9884-5d80-4afb-b3b7-2de12977a3eb",
   "metadata": {},
   "outputs": [],
   "source": []
  }
 ],
 "metadata": {
  "kernelspec": {
   "display_name": "Python 3 (ipykernel)",
   "language": "python",
   "name": "python3"
  },
  "language_info": {
   "codemirror_mode": {
    "name": "ipython",
    "version": 3
   },
   "file_extension": ".py",
   "mimetype": "text/x-python",
   "name": "python",
   "nbconvert_exporter": "python",
   "pygments_lexer": "ipython3",
   "version": "3.10.8"
  }
 },
 "nbformat": 4,
 "nbformat_minor": 5
}
